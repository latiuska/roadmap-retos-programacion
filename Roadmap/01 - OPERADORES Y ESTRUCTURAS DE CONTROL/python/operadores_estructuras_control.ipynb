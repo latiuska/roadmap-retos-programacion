{
 "cells": [
  {
   "cell_type": "markdown",
   "id": "85beafc4-df95-4659-808c-669cb101514e",
   "metadata": {},
   "source": [
    "Operadores aritméticos"
   ]
  },
  {
   "cell_type": "code",
   "execution_count": 19,
   "id": "35339616-3f21-4183-98dc-4502e88cda08",
   "metadata": {},
   "outputs": [
    {
     "name": "stdout",
     "output_type": "stream",
     "text": [
      " + Suma: La suma de 10 + 2 = 12\n",
      " - Resta: La resta de 10 - 2 = 8\n",
      " * Producto (multiplicación): El producto de 10 * 2 = 20\n",
      " / División: La división de 10 - 2 = 5.0\n",
      " // Divisiñon entera: La división entera de 10 - 2 = 10// 2\n",
      " % Módulo (resto de una división): El módulo de 10 - 2 = 0\n",
      " ** Potencia: La potencia de 10 - 2 = 100\n"
     ]
    }
   ],
   "source": [
    "num1 = 10\n",
    "num2 = 2\n",
    "print(f\" + Suma: La suma de {num1} + {num2} = {num1 + num2}\" )\n",
    "print(f\" - Resta: La resta de {num1} - {num2} = {num1 - num2}\")\n",
    "print(f\" * Producto (multiplicación): El producto de {num1} * {num2} = {num1* num2}\")\n",
    "print(f\" / División: La división de {num1} - {num2} = {num1 / num2}\")\n",
    "print(f\" // División entera: La división entera de {num1} - {num2} = {num1}// {num2}\")\n",
    "print(f\" % Módulo (resto de una división): El módulo de {num1} - {num2} = {num1 % num2}\")\n",
    "print(f\" ** Potencia: La potencia de {num1} - {num2} = {num1 ** num2}\")\n"
   ]
  },
  {
   "cell_type": "markdown",
   "id": "52b1b1eb-8592-4d32-ad52-b2885cd76eef",
   "metadata": {},
   "source": [
    "Operadores de comparación"
   ]
  },
  {
   "cell_type": "code",
   "execution_count": 24,
   "id": "883bd6bd-5a18-4968-8515-1291987651bc",
   "metadata": {},
   "outputs": [
    {
     "name": "stdout",
     "output_type": "stream",
     "text": [
      " > Mayor que: 5 > 4 : True/ False ==> True\n",
      " < Menor que: 5 < 4 : True/ False ==> False\n",
      " == Igual que: 5 == 4 : True/ False ==> False\n",
      " >= Mayor o iguel que: 5 >= 4 : True/ False ==> True\n",
      " <= Menor o igual que: 5 > 4 : True/ False ==> False\n",
      " != Diferente que: 5 != 4 : True/ False ==> True\n"
     ]
    }
   ],
   "source": [
    "num1 = 5\n",
    "num2 = 4\n",
    "\n",
    "print(f\" > Mayor que: {num1} > {num2} : True/ False ==> {num1>num2}\" )\n",
    "print(f\" < Menor que: {num1} < {num2} : True/ False ==> {num1<num2}\" )\n",
    "print(f\" == Igual que: {num1} == {num2} : True/ False ==> {num1==num2}\" )\n",
    "print(f\" >= Mayor o iguel que: {num1} >= {num2} : True/ False ==> {num1>=num2}\" )\n",
    "print(f\" <= Menor o igual que: {num1} > {num2} : True/ False ==> {num1<=num2}\" )\n",
    "print(f\" != Diferente que: {num1} != {num2} : True/ False ==> {num1!=num2}\" )\n"
   ]
  },
  {
   "cell_type": "markdown",
   "id": "1c963dd6-f45d-446b-834c-714f8fadea93",
   "metadata": {},
   "source": [
    "Operadores de asignación"
   ]
  },
  {
   "cell_type": "code",
   "execution_count": 47,
   "id": "68262b5f-cbf6-4af8-936a-12dbcb4d2992",
   "metadata": {},
   "outputs": [
    {
     "name": "stdout",
     "output_type": "stream",
     "text": [
      " \"=\" Asignación directa: 5\n",
      " \"+=\" Suma y asignación: 10\n",
      " \"-=\" Resta y asignación: 5\n",
      " \"*=\" Multiplicación y asignación: 25\n",
      " \"/=\" División y asignación: 5.0\n",
      " \"//=\" División entera y asignación: 1.0\n",
      " \"%=\" Producto y asignación: 1.0\n",
      " \"//=\" Exponente y asignación: 1.0\n"
     ]
    }
   ],
   "source": [
    "num1 = 5\n",
    "print(f\" \\\"=\\\" Asignación directa: {num1}\")\n",
    "num1 += 5\n",
    "print(f\" \\\"+=\\\" Suma y asignación: {num1}\")\n",
    "num1 -= 5\n",
    "print(f\" \\\"-=\\\" Resta y asignación: {num1}\")\n",
    "num1 *= 5\n",
    "print(f\" \\\"*=\\\" Multiplicación y asignación: {num1}\")\n",
    "num1 /= 5\n",
    "print(f\" \\\"/=\\\" División y asignación: {num1}\")\n",
    "num1 //= 5\n",
    "print(f\" \\\"//=\\\" División entera y asignación: {num1}\")\n",
    "num1 %= 5\n",
    "print(f\" \\\"%=\\\" Producto y asignación: {num1}\")\n",
    "num1 **= 5\n",
    "print(f\" \\\"//=\\\" Exponente y asignación: {num1}\")\n",
    "\n"
   ]
  },
  {
   "cell_type": "markdown",
   "id": "110767cc-bbae-4846-b395-9e2365bb928d",
   "metadata": {},
   "source": [
    "Operadores lógicos\n",
    "and\n",
    "or\n",
    "not"
   ]
  },
  {
   "cell_type": "code",
   "execution_count": 55,
   "id": "c5d49eca-7624-40fa-bc62-8e54af4c19db",
   "metadata": {},
   "outputs": [
    {
     "name": "stdout",
     "output_type": "stream",
     "text": [
      " AND - 1 > 0 and 2 > 1 = True\n",
      " OR - 5 > 1 or 5 < 6 = True\n",
      " NOT - not 5 + 4 = 8 = True\n"
     ]
    }
   ],
   "source": [
    "print(f\" AND - 1 > 0 and 2 > 1 = {1 > 0 and 2 > 1}\")\n",
    "print(f\" OR - 5 > 1 or 5 < 6 = {5 > 1 or 5 < 6}\")\n",
    "print(f\" NOT - not 5 + 4 = 8 = {not 5 + 4 == 8}\")"
   ]
  },
  {
   "cell_type": "markdown",
   "id": "780b296a-b074-4ed2-9226-b5305d7c3334",
   "metadata": {},
   "source": [
    "Operadores de pertenencia\n",
    "IN\n",
    "NOT IN"
   ]
  },
  {
   "cell_type": "code",
   "execution_count": 60,
   "id": "8d5201cb-ffc1-4355-94a8-15ecb6d49b4c",
   "metadata": {},
   "outputs": [
    {
     "name": "stdout",
     "output_type": "stream",
     "text": [
      " \"a\" está en la palabra mar: True\n",
      " \"e\" No está en la palabra Python: True\n"
     ]
    }
   ],
   "source": [
    "print(f\" \\\"a\\\" está en la palabra mar: {'a' in 'mar'}\")\n",
    "print(f\" \\\"e\\\" No está en la palabra Python: {'o' in 'Python'}\")"
   ]
  },
  {
   "cell_type": "markdown",
   "id": "9d485ddf-46b3-44ea-9212-8164ef00309d",
   "metadata": {},
   "source": [
    "Operadores de identidad\n",
    "IS\n",
    "IS NOT"
   ]
  },
  {
   "cell_type": "code",
   "execution_count": 65,
   "id": "4fd1986d-9e31-4937-a28d-aca76e398f8e",
   "metadata": {},
   "outputs": [
    {
     "name": "stdout",
     "output_type": "stream",
     "text": [
      " \"a\" es \"b\" False\n",
      " \"a\" no es \"b\" True\n"
     ]
    }
   ],
   "source": [
    "a = 5\n",
    "b = 4\n",
    "print(f\" \\\"a\\\" es \\\"b\\\" {a is b}\")\n",
    "print(f\" \\\"a\\\" no es \\\"b\\\" {a is not b}\")"
   ]
  },
  {
   "cell_type": "markdown",
   "id": "c1769035-1c26-4dbf-ac55-d25b5c636f9c",
   "metadata": {},
   "source": [
    "Operadores bit a bit\n",
    "\n",
    "&\tRealiza bit a bit la operación AND en los operandos\ta & b = 2 (Binario: 10 & 11 = 10) \n",
    "    Compara bit a bit. Si el resultado es 1, toma 1. Si no es uno, le asigna 0.\n",
    "|\tRealiza bit a bit la operación OR en los operandos\ta | b = 3 (Binario: 10 | 11 = 11)\n",
    "    Compara bit a bit. Si al menos uno de los bits es 1, toma 1.\n",
    "^\tRealiza bit a bit la operación XOR en los operandos\ta ^ b = 1 (Binario: 10 ^ 11 = 01)\n",
    "    Compara bit a bit. Si son diferentes el resultado es 1. Si son iguales es 0.\n",
    "~\tRealiza bit a bit la operación NOT bit a bit. Invierte cada bit en el operando\t~a = -3 (Binario: ~(00000010) = (11111101))\n",
    "    Intercambia el valor bit a bit de cualquiera de los elementos\n",
    ">>\tRealiza un desplazamiento a la derecha bit a bit. Desplaza los bits del operador de la izquierda a la derecha tantos bits como indica el operador de la derecha\ta >> b = 0 (Binario: 00000010 >> 00000011 = 0)\n",
    "<<\tRealiza un desplazamiento a la izquierda bit a bit. Desplaza los bits del operando de la izquierda a la izquierda tantos bits como especifique el operador de la derecha\ta << b = 16 (Binario: 00000010 << 00000011 = 00001000)"
   ]
  },
  {
   "cell_type": "code",
   "execution_count": 72,
   "id": "ecf982b9-781e-48cb-9405-5a6c07232d90",
   "metadata": {},
   "outputs": [
    {
     "name": "stdout",
     "output_type": "stream",
     "text": [
      " & - a & b = 2\n",
      " | - a | b = 11\n",
      " XOR - a ^ b = 9\n",
      " NOT - ~a = -11\n",
      " >> - Desplazamiento a la derecha a >> 2 = 2\n",
      " << - Desplazamiento a la izquierda a << 2 = 40\n"
     ]
    }
   ],
   "source": [
    "a = 10 #1010\n",
    "b = 3  #0011\n",
    "print(f\" & - a & b = {a & b}\") #0010\n",
    "print(f\" | - a | b = {a | b}\") #1011\n",
    "print(f\" XOR - a ^ b = {a ^ b}\") #1001\n",
    "print(f\" NOT - ~a = { ~ a}\") #\n",
    "print(f\" >> - Desplazamiento a la derecha a >> 2 = {a>>2}\")\n",
    "print(f\" << - Desplazamiento a la izquierda a << 2 = {a<<2}\")\n"
   ]
  },
  {
   "cell_type": "markdown",
   "id": "42aeac61-1e46-4e21-b89c-1763ff49473e",
   "metadata": {},
   "source": [
    "Estructuras de Control\n",
    "Condicionales ==> IF\n",
    "Iterativas ==> FOR, WHILE\n",
    "Excepciones ==> Try, Except, Finally"
   ]
  },
  {
   "cell_type": "markdown",
   "id": "8b90d179-4550-4a54-8bbc-a8016db883dc",
   "metadata": {},
   "source": [
    "CONDICIONALES"
   ]
  },
  {
   "cell_type": "code",
   "execution_count": 78,
   "id": "c54a07c9-ed98-41e3-bc8f-233c7a43a57d",
   "metadata": {},
   "outputs": [
    {
     "name": "stdout",
     "output_type": "stream",
     "text": [
      " La A no se encuentra en Lorenzo\n"
     ]
    }
   ],
   "source": [
    "name = \"Lorenzo\"\n",
    "if 'a' in name:\n",
    "    print(f\" Sí,  la A se encuentra en {name}\")\n",
    "else:\n",
    "    print(f\" La A no se encuentra en {name}\")"
   ]
  },
  {
   "cell_type": "markdown",
   "id": "2c95a340-d6ff-4e9f-be5e-401e4073acfa",
   "metadata": {},
   "source": [
    "ITERATIVAS"
   ]
  },
  {
   "cell_type": "code",
   "execution_count": 80,
   "id": "555d45a3-5adb-4d23-ac33-e537224d2771",
   "metadata": {},
   "outputs": [
    {
     "name": "stdout",
     "output_type": "stream",
     "text": [
      "0\n",
      "1\n",
      "2\n",
      "3\n",
      "4\n",
      "5\n",
      "6\n",
      "7\n",
      "8\n",
      "9\n",
      "10\n"
     ]
    }
   ],
   "source": [
    "\n",
    "for i in range(0,11):\n",
    "    print(i)\n",
    "    "
   ]
  },
  {
   "cell_type": "code",
   "execution_count": 86,
   "id": "f51efddd-1acd-4e4f-a969-e952e1c1d5b6",
   "metadata": {},
   "outputs": [
    {
     "name": "stdout",
     "output_type": "stream",
     "text": [
      "0\n",
      "1\n",
      "2\n",
      "3\n",
      "4\n",
      "5\n",
      "6\n",
      "7\n",
      "8\n",
      "9\n",
      "10\n"
     ]
    }
   ],
   "source": [
    "i = 0\n",
    "while i <= 10:\n",
    "    print(i)\n",
    "    i +=1\n"
   ]
  },
  {
   "cell_type": "markdown",
   "id": "3e41934b-a9b4-46ee-8747-acaa3aa1e0bb",
   "metadata": {},
   "source": [
    "MANEJO DE EXCEPCIONES"
   ]
  },
  {
   "cell_type": "code",
   "execution_count": 88,
   "id": "5a82cc33-963a-4d80-96de-fcd268d351f1",
   "metadata": {},
   "outputs": [
    {
     "name": "stdout",
     "output_type": "stream",
     "text": [
      "5.0\n",
      "El manejo de errores ha finalizado\n"
     ]
    }
   ],
   "source": [
    "try:\n",
    "    print(10/2)\n",
    "except:\n",
    "    print(\"Se ha producido un error. No se puede dividir por cero\")\n",
    "finally:\n",
    "    print(\"El manejo de errores ha finalizado\")\n",
    "\n",
    "    "
   ]
  },
  {
   "cell_type": "markdown",
   "id": "574c3446-5024-44b4-b20d-98ef27e16d9a",
   "metadata": {},
   "source": [
    "Imprimir los números:\n",
    "- comprendidos entre 10 y 55 (ambos incluidos)\n",
    "- pares\n",
    "- no incluye el 16\n",
    "- no son  múltiplos de 3"
   ]
  },
  {
   "cell_type": "code",
   "execution_count": 93,
   "id": "5bcfba4e-2984-487c-99ab-9dfd51d90d6a",
   "metadata": {},
   "outputs": [
    {
     "name": "stdout",
     "output_type": "stream",
     "text": [
      "10\n",
      "14\n",
      "20\n",
      "22\n",
      "26\n",
      "28\n",
      "32\n",
      "34\n",
      "38\n",
      "40\n",
      "44\n",
      "46\n",
      "50\n",
      "52\n"
     ]
    }
   ],
   "source": [
    "for i in range(10,56):\n",
    "    if i % 2 ==0 and i != 16 and i % 3 != 0:\n",
    "        print(i)\n"
   ]
  },
  {
   "cell_type": "code",
   "execution_count": null,
   "id": "545d4918-96dd-41d8-9e9b-c2226e44e3ff",
   "metadata": {},
   "outputs": [],
   "source": []
  }
 ],
 "metadata": {
  "kernelspec": {
   "display_name": "Python 3 (ipykernel)",
   "language": "python",
   "name": "python3"
  },
  "language_info": {
   "codemirror_mode": {
    "name": "ipython",
    "version": 3
   },
   "file_extension": ".py",
   "mimetype": "text/x-python",
   "name": "python",
   "nbconvert_exporter": "python",
   "pygments_lexer": "ipython3",
   "version": "3.12.4"
  }
 },
 "nbformat": 4,
 "nbformat_minor": 5
}
